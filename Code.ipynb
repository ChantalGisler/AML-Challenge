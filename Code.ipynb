{
 "cells": [
  {
   "cell_type": "markdown",
   "metadata": {},
   "source": [
    "# AML Challenge"
   ]
  },
  {
   "cell_type": "markdown",
   "metadata": {},
   "source": [
    "## Setup"
   ]
  },
  {
   "cell_type": "code",
   "execution_count": 27,
   "metadata": {},
   "outputs": [],
   "source": [
    "# Loading libraries\n",
    "import numpy as np\n",
    "import sympy as sp\n",
    "import matplotlib.pyplot as plt\n",
    "import pandas as pd\n",
    "from sklearn.model_selection import train_test_split\n",
    "from collections import Counter\n",
    "from datetime import datetime\n",
    "from prettytable import PrettyTable"
   ]
  },
  {
   "cell_type": "code",
   "execution_count": 28,
   "metadata": {},
   "outputs": [
    {
     "name": "stderr",
     "output_type": "stream",
     "text": [
      "C:\\Users\\chant\\AppData\\Local\\Temp/ipykernel_20280/807387847.py:9: DtypeWarning: Columns (8) have mixed types. Specify dtype option on import or set low_memory=False.\n",
      "  trans = pd.read_csv('Data/trans.csv', sep = ';')\n"
     ]
    }
   ],
   "source": [
    "# Loading data\n",
    "account = pd.read_csv('Data/account.csv', sep = ';')\n",
    "client = pd.read_csv('Data/client.csv', sep = ';')\n",
    "card = pd.read_csv('Data/card.csv', sep = ';')\n",
    "disp = pd.read_csv('Data/disp.csv', sep = ';')\n",
    "district = pd.read_csv('Data/district.csv', sep = ';')\n",
    "loan = pd.read_csv('Data/loan.csv', sep = ';')\n",
    "order = pd.read_csv('Data/order.csv', sep = ';')\n",
    "trans = pd.read_csv('Data/trans.csv', sep = ';')"
   ]
  },
  {
   "cell_type": "markdown",
   "metadata": {},
   "source": [
    "## 1. Explorative Data Analysis"
   ]
  },
  {
   "cell_type": "markdown",
   "metadata": {},
   "source": [
    "### Account\n",
    "Data wrangling with the csv account. Here's a brief description from the website: "
   ]
  },
  {
   "cell_type": "code",
   "execution_count": 29,
   "metadata": {},
   "outputs": [
    {
     "name": "stdout",
     "output_type": "stream",
     "text": [
      "   account_id  district_id         frequency    date\n",
      "0         576           55  POPLATEK MESICNE  930101\n",
      "1        3818           74  POPLATEK MESICNE  930101\n",
      "2         704           55  POPLATEK MESICNE  930101\n",
      "3        2378           16  POPLATEK MESICNE  930101\n",
      "4        2632           24  POPLATEK MESICNE  930102\n"
     ]
    }
   ],
   "source": [
    "print(account.head())"
   ]
  },
  {
   "cell_type": "markdown",
   "metadata": {},
   "source": [
    "It seems that the date column is wrong, let's fix that. "
   ]
  },
  {
   "cell_type": "code",
   "execution_count": 30,
   "metadata": {},
   "outputs": [
    {
     "name": "stdout",
     "output_type": "stream",
     "text": [
      "   account_id  district_id         frequency       date\n",
      "0         576           55  POPLATEK MESICNE 1993-01-01\n",
      "1        3818           74  POPLATEK MESICNE 1993-01-01\n",
      "2         704           55  POPLATEK MESICNE 1993-01-01\n",
      "3        2378           16  POPLATEK MESICNE 1993-01-01\n",
      "4        2632           24  POPLATEK MESICNE 1993-01-02\n"
     ]
    }
   ],
   "source": [
    "# Fixing the date column\n",
    "account['date'] = pd.to_datetime(account['date'], format='%y%m%d')\n",
    "print(account.head())"
   ]
  },
  {
   "cell_type": "code",
   "execution_count": 31,
   "metadata": {},
   "outputs": [
    {
     "data": {
      "text/plain": [
       "<bound method NDFrame.head of       account_id  district_id frequency       date\n",
       "0            576           55   monthly 1993-01-01\n",
       "1           3818           74   monthly 1993-01-01\n",
       "2            704           55   monthly 1993-01-01\n",
       "3           2378           16   monthly 1993-01-01\n",
       "4           2632           24   monthly 1993-01-02\n",
       "...          ...          ...       ...        ...\n",
       "4495         124           55   monthly 1997-12-28\n",
       "4496        3958           59   monthly 1997-12-28\n",
       "4497         777           30   monthly 1997-12-28\n",
       "4498        1573           63   monthly 1997-12-29\n",
       "4499        3276            1   monthly 1997-12-29\n",
       "\n",
       "[4500 rows x 4 columns]>"
      ]
     },
     "execution_count": 31,
     "metadata": {},
     "output_type": "execute_result"
    }
   ],
   "source": [
    "# Translating the frequency into English\n",
    "translation_frequency = {\n",
    "    'POPLATEK MESICNE': 'monthly',\n",
    "    'POPLATEK TYDNE': 'weekly',\n",
    "    'POPLATEK PO TRANSAKCI': 'after transaction'\n",
    "}\n",
    "\n",
    "account['frequency'] = account['frequency'].map(translation_frequency)\n",
    "account.head"
   ]
  },
  {
   "cell_type": "code",
   "execution_count": 32,
   "metadata": {},
   "outputs": [
    {
     "name": "stdout",
     "output_type": "stream",
     "text": [
      "<class 'pandas.core.frame.DataFrame'>\n",
      "RangeIndex: 4500 entries, 0 to 4499\n",
      "Data columns (total 4 columns):\n",
      " #   Column       Non-Null Count  Dtype         \n",
      "---  ------       --------------  -----         \n",
      " 0   account_id   4500 non-null   int64         \n",
      " 1   district_id  4500 non-null   int64         \n",
      " 2   frequency    4407 non-null   object        \n",
      " 3   date         4500 non-null   datetime64[ns]\n",
      "dtypes: datetime64[ns](1), int64(2), object(1)\n",
      "memory usage: 140.8+ KB\n",
      "None\n"
     ]
    }
   ],
   "source": [
    "print(account.info())"
   ]
  },
  {
   "cell_type": "code",
   "execution_count": 33,
   "metadata": {},
   "outputs": [
    {
     "name": "stdout",
     "output_type": "stream",
     "text": [
      "account_id      0\n",
      "district_id     0\n",
      "frequency      93\n",
      "date            0\n",
      "dtype: int64\n"
     ]
    }
   ],
   "source": [
    "# Checking if there are any data missing\n",
    "print(account.isnull().sum())"
   ]
  },
  {
   "cell_type": "code",
   "execution_count": 34,
   "metadata": {},
   "outputs": [
    {
     "name": "stdout",
     "output_type": "stream",
     "text": [
      "4500\n",
      "77\n"
     ]
    }
   ],
   "source": [
    "print(account['account_id'].nunique())\n",
    "print(account['district_id'].nunique())"
   ]
  },
  {
   "cell_type": "markdown",
   "metadata": {},
   "source": [
    "#### Summary EDA Account"
   ]
  },
  {
   "cell_type": "markdown",
   "metadata": {},
   "source": [
    "There are 4500 unique clients in 77 districs. "
   ]
  },
  {
   "cell_type": "markdown",
   "metadata": {},
   "source": [
    "### Client"
   ]
  },
  {
   "cell_type": "code",
   "execution_count": 35,
   "metadata": {},
   "outputs": [
    {
     "name": "stdout",
     "output_type": "stream",
     "text": [
      "<bound method NDFrame.head of       client_id  birth_number  district_id\n",
      "0             1        706213           18\n",
      "1             2        450204            1\n",
      "2             3        406009            1\n",
      "3             4        561201            5\n",
      "4             5        605703            5\n",
      "...         ...           ...          ...\n",
      "5364      13955        456030            1\n",
      "5365      13956        430406            1\n",
      "5366      13968        680413           61\n",
      "5367      13971        626019           67\n",
      "5368      13998        535812           74\n",
      "\n",
      "[5369 rows x 3 columns]>\n"
     ]
    }
   ],
   "source": [
    "print(client.head)"
   ]
  },
  {
   "cell_type": "code",
   "execution_count": 36,
   "metadata": {},
   "outputs": [],
   "source": [
    "# Function to calculate the birthday, gender and age from birth_number\n",
    "def calculate_birthday(df):\n",
    "    \n",
    "    genders = []\n",
    "    birthdays = []\n",
    "    ages = []\n",
    "    \n",
    "    base_date = datetime(1999, 12, 31)\n",
    "    \n",
    "    for birth_number in df['birth_number']:\n",
    "        birth_number_str = str(birth_number)\n",
    "        \n",
    "        year = int(\"19\" + birth_number_str[:2])\n",
    "        month = int(birth_number_str[2:4])\n",
    "        day = int(birth_number_str[4:6])\n",
    "        \n",
    "        if month > 12:\n",
    "            gender = \"female\"\n",
    "            month -= 50  # minus 50 for females\n",
    "        else:\n",
    "            gender = \"male\"\n",
    "        \n",
    "        birth_day = datetime(year, month, day)\n",
    "        age = base_date.year - birth_day.year - ((base_date.month, base_date.day) < (birth_day.month, birth_day.day))\n",
    "        \n",
    "        genders.append(gender)\n",
    "        birthdays.append(birth_day)\n",
    "        ages.append(age)\n",
    "    \n",
    "    df['gender'] = genders\n",
    "    df['birth_day'] = birthdays\n",
    "    df['age'] = ages\n",
    "    \n",
    "    df = df.drop(columns=['birth_number'])\n",
    "    \n",
    "    return df\n",
    "\n",
    "client = calculate_birthday(client)\n",
    "#client.head"
   ]
  },
  {
   "cell_type": "code",
   "execution_count": 37,
   "metadata": {},
   "outputs": [
    {
     "data": {
      "image/png": "[encoded data removed]",
      "text/plain": [
       "<Figure size 1152x432 with 1 Axes>"
      ]
     },
     "metadata": {
      "needs_background": "light"
     },
     "output_type": "display_data"
    }
   ],
   "source": [
    "# Plotting the year of birth of the clients\n",
    "\n",
    "client['birth_year'] = pd.to_datetime(client['birth_day']).dt.year\n",
    "client_count_per_year = client.groupby('birth_year')['client_id'].nunique()\n",
    "\n",
    "# Plot\n",
    "plt.figure(figsize=(16, 6))\n",
    "client_count_per_year.plot(kind='bar', color='forestgreen')\n",
    "plt.title('How many Clients are born in what Year')\n",
    "plt.xlabel('Year of Birth')\n",
    "plt.ylabel('Amount of Unique Clients')\n",
    "plt.xticks(rotation=45)\n",
    "plt.tight_layout()\n",
    "plt.show()"
   ]
  },
  {
   "cell_type": "markdown",
   "metadata": {},
   "source": [
    "*Explanation of the plot*: The birthyear of the clients is from 1911 until 1987 and most of them are born between 1939 and 1980. Maybe it's an effect of the birthcontrol pill which became widly popular in Europe in the 1970s. "
   ]
  },
  {
   "cell_type": "code",
   "execution_count": 38,
   "metadata": {},
   "outputs": [
    {
     "data": {
      "image/png": "[encoded data removed]",
      "text/plain": [
       "<Figure size 1152x432 with 2 Axes>"
      ]
     },
     "metadata": {
      "needs_background": "light"
     },
     "output_type": "display_data"
    }
   ],
   "source": [
    "# Having a look at the age\n",
    "colors = ['forestgreen', 'lightpink']\n",
    "fig, axes = plt.subplots(1, 2, figsize=(16, 6))\n",
    "gender_counts = client['gender'].value_counts()\n",
    "\n",
    "axes[0].pie(gender_counts, labels=gender_counts.index, autopct='%1.1f%%', colors=colors)\n",
    "axes[0].set_title('Distribution of Gender')\n",
    "\n",
    "axes[1].boxplot([client[client['gender'] == 'male']['age'], client[client['gender'] == 'female']['age']],\n",
    "                labels=['Männer', 'Frauen'], patch_artist=True,\n",
    "                boxprops=dict(facecolor=colors[0]),  \n",
    "                medianprops=dict(color='black'),\n",
    "                whiskerprops=dict(color='black'),\n",
    "                capprops=dict(color='black'))\n",
    "axes[1].set_ylabel('Age')\n",
    "axes[1].set_title('Age Distribution with Genders')\n",
    "\n",
    "# Plotting\n",
    "plt.tight_layout()\n",
    "plt.show()"
   ]
  },
  {
   "cell_type": "markdown",
   "metadata": {},
   "source": [
    "*Explanation of the plot*: The distribution between genders and also age and gender seems to be equal. "
   ]
  },
  {
   "cell_type": "code",
   "execution_count": 39,
   "metadata": {},
   "outputs": [
    {
     "data": {
      "image/png": "[encoded data removed]",
      "text/plain": [
       "<Figure size 864x432 with 1 Axes>"
      ]
     },
     "metadata": {
      "needs_background": "light"
     },
     "output_type": "display_data"
    }
   ],
   "source": [
    "# How many clients are in what district\n",
    "plt.figure(figsize=(12, 6))\n",
    "plt.bar(client['district_id'].unique(), client['district_id'].value_counts(), color=\"forestgreen\")\n",
    "plt.xlabel('ID of District')\n",
    "plt.ylabel('Amount of Clients')\n",
    "plt.title('Distribution of Clients per District')\n",
    "plt.show()"
   ]
  },
  {
   "cell_type": "markdown",
   "metadata": {},
   "source": [
    "*Explanation of the plot*: The distribution seems normal but district 18 has many clients more than the average district. Maybe it's a big city with many habitants so there are naturally more clients. "
   ]
  },
  {
   "cell_type": "markdown",
   "metadata": {},
   "source": [
    "#### Summary EDA Client"
   ]
  },
  {
   "cell_type": "markdown",
   "metadata": {},
   "source": [
    "### Card"
   ]
  },
  {
   "cell_type": "code",
   "execution_count": 40,
   "metadata": {},
   "outputs": [
    {
     "name": "stdout",
     "output_type": "stream",
     "text": [
      "+---------+---------+---------+---------------------+\n",
      "| card_id | disp_id |   type  |        issued       |\n",
      "+---------+---------+---------+---------------------+\n",
      "|   1005  |   9285  | classic | 1993-11-07 00:00:00 |\n",
      "|   104   |   588   | classic | 1994-01-19 00:00:00 |\n",
      "|   747   |   4915  | classic | 1994-02-05 00:00:00 |\n",
      "|    70   |   439   | classic | 1994-02-08 00:00:00 |\n",
      "|   577   |   3687  | classic | 1994-02-15 00:00:00 |\n",
      "|   377   |   2429  | classic | 1994-03-03 00:00:00 |\n",
      "|   721   |   4680  |  junior | 1994-04-05 00:00:00 |\n",
      "|   437   |   2762  | classic | 1994-06-01 00:00:00 |\n",
      "|   188   |   1146  | classic | 1994-06-19 00:00:00 |\n",
      "|    13   |    87   | classic | 1994-06-29 00:00:00 |\n",
      "+---------+---------+---------+---------------------+\n"
     ]
    }
   ],
   "source": [
    "# Making the table readable (issued means ausgestellt)\n",
    "card['issued'] = pd.to_datetime(card['issued'], format='%y%m%d %H:%M:%S', errors='coerce')\n",
    "\n",
    "table = PrettyTable()\n",
    "table.field_names = [\"card_id\", \"disp_id\", \"type\", \"issued\"]\n",
    "\n",
    "for index, row in card.head(10).iterrows():\n",
    "    table.add_row([row['card_id'], row['disp_id'], row['type'], row['issued']])\n",
    "\n",
    "print(table)"
   ]
  },
  {
   "cell_type": "code",
   "execution_count": 41,
   "metadata": {},
   "outputs": [
    {
     "name": "stdout",
     "output_type": "stream",
     "text": [
      "classic    659\n",
      "junior     145\n",
      "gold        88\n",
      "Name: type, dtype: int64\n"
     ]
    }
   ],
   "source": [
    "# How many card types are there?\n",
    "print(card['type'].value_counts())"
   ]
  },
  {
   "cell_type": "markdown",
   "metadata": {},
   "source": [
    "#### Summary EDA Card\n",
    "There are three card types: classic (659), junior (145) and gold (88). "
   ]
  },
  {
   "cell_type": "markdown",
   "metadata": {},
   "source": [
    "### Disp"
   ]
  },
  {
   "cell_type": "code",
   "execution_count": 42,
   "metadata": {},
   "outputs": [
    {
     "data": {
      "text/plain": [
       "<bound method NDFrame.head of       disp_id  client_id  account_id       type\n",
       "0           1          1           1      OWNER\n",
       "1           2          2           2      OWNER\n",
       "2           3          3           2  DISPONENT\n",
       "3           4          4           3      OWNER\n",
       "4           5          5           3  DISPONENT\n",
       "...       ...        ...         ...        ...\n",
       "5364    13647      13955       11349      OWNER\n",
       "5365    13648      13956       11349  DISPONENT\n",
       "5366    13660      13968       11359      OWNER\n",
       "5367    13663      13971       11362      OWNER\n",
       "5368    13690      13998       11382      OWNER\n",
       "\n",
       "[5369 rows x 4 columns]>"
      ]
     },
     "execution_count": 42,
     "metadata": {},
     "output_type": "execute_result"
    }
   ],
   "source": [
    "disp.head"
   ]
  },
  {
   "cell_type": "code",
   "execution_count": 47,
   "metadata": {},
   "outputs": [
    {
     "name": "stdout",
     "output_type": "stream",
     "text": [
      "      account_id  unique_clients\n",
      "1              2               2\n",
      "2              3               2\n",
      "7              8               2\n",
      "11            12               2\n",
      "12            13               2\n",
      "...          ...             ...\n",
      "4464       10940               2\n",
      "4466       10954               2\n",
      "4479       11111               2\n",
      "4484       11186               2\n",
      "4496       11349               2\n",
      "\n",
      "[869 rows x 2 columns]\n"
     ]
    }
   ],
   "source": [
    "# Checking if one account can have more than one client\n",
    "\n",
    "multiple_clients_per_account = disp.groupby(['account_id'])['client_id'].nunique().reset_index(name='unique_clients')\n",
    "multiple_clients_per_account = multiple_clients_per_account[multiple_clients_per_account['unique_clients'] > 1]\n",
    "print(multiple_clients_per_account)\n",
    "\n",
    "# Here is a list with which accounts have an owner and a disponent"
   ]
  },
  {
   "cell_type": "code",
   "execution_count": 46,
   "metadata": {},
   "outputs": [
    {
     "name": "stdout",
     "output_type": "stream",
     "text": [
      "Empty DataFrame\n",
      "Columns: [client_id, unique_accounts]\n",
      "Index: []\n"
     ]
    }
   ],
   "source": [
    "# Checking if one client has more than one account\n",
    "multiple_accounts_per_client = disp.groupby('client_id')['account_id'].nunique().reset_index(name='unique_accounts')\n",
    "multiple_accounts_per_client = multiple_accounts_per_client[multiple_accounts_per_client['unique_accounts'] > 1]\n",
    "print(multiple_accounts_per_client)"
   ]
  },
  {
   "cell_type": "markdown",
   "metadata": {},
   "source": [
    "#### Summary EDA Disp\n",
    "Some accounts have two unique clients (with unique client IDs) so some of them have an owner and a disponent. But no client has more than one account. "
   ]
  },
  {
   "cell_type": "markdown",
   "metadata": {},
   "source": [
    "### District"
   ]
  },
  {
   "cell_type": "code",
   "execution_count": 48,
   "metadata": {},
   "outputs": [
    {
     "data": {
      "text/plain": [
       "<bound method NDFrame.head of     A1               A2               A3       A4  A5  A6  A7  A8  A9    A10  \\\n",
       "0    1      Hl.m. Praha           Prague  1204953   0   0   0   1   1  100.0   \n",
       "1    2          Benesov  central Bohemia    88884  80  26   6   2   5   46.7   \n",
       "2    3           Beroun  central Bohemia    75232  55  26   4   1   5   41.7   \n",
       "3    4           Kladno  central Bohemia   149893  63  29   6   2   6   67.4   \n",
       "4    5            Kolin  central Bohemia    95616  65  30   4   1   6   51.4   \n",
       "..  ..              ...              ...      ...  ..  ..  ..  ..  ..    ...   \n",
       "72  73            Opava    north Moravia   182027  17  49  12   2   7   56.4   \n",
       "73  74  Ostrava - mesto    north Moravia   323870   0   0   0   1   1  100.0   \n",
       "74  75           Prerov    north Moravia   138032  67  30   4   2   5   64.6   \n",
       "75  76          Sumperk    north Moravia   127369  31  32  13   2   7   51.2   \n",
       "76  77           Vsetin    north Moravia   148545   8  35  12   3   4   53.5   \n",
       "\n",
       "      A11   A12   A13  A14    A15    A16  \n",
       "0   12541  0.29  0.43  167  85677  99107  \n",
       "1    8507  1.67  1.85  132   2159   2674  \n",
       "2    8980  1.95  2.21  111   2824   2813  \n",
       "3    9753  4.64  5.05  109   5244   5892  \n",
       "4    9307  3.85  4.43  118   2616   3040  \n",
       "..    ...   ...   ...  ...    ...    ...  \n",
       "72   8746  3.33  3.74   90   4355   4433  \n",
       "73  10673  4.75  5.44  100  18782  18347  \n",
       "74   8819  5.38  5.66   99   4063   4505  \n",
       "75   8369  4.73  5.88  107   3736   2807  \n",
       "76   8909  4.01  5.56  113   3460   3590  \n",
       "\n",
       "[77 rows x 16 columns]>"
      ]
     },
     "execution_count": 48,
     "metadata": {},
     "output_type": "execute_result"
    }
   ],
   "source": [
    "district.head"
   ]
  },
  {
   "cell_type": "code",
   "execution_count": 50,
   "metadata": {},
   "outputs": [
    {
     "data": {
      "text/html": [
       "<div>\n",
       "<style scoped>\n",
       "    .dataframe tbody tr th:only-of-type {\n",
       "        vertical-align: middle;\n",
       "    }\n",
       "\n",
       "    .dataframe tbody tr th {\n",
       "        vertical-align: top;\n",
       "    }\n",
       "\n",
       "    .dataframe thead th {\n",
       "        text-align: right;\n",
       "    }\n",
       "</style>\n",
       "<table border=\"1\" class=\"dataframe\">\n",
       "  <thead>\n",
       "    <tr style=\"text-align: right;\">\n",
       "      <th></th>\n",
       "      <th>district_id</th>\n",
       "      <th>district_name</th>\n",
       "      <th>region</th>\n",
       "      <th>inhabitants</th>\n",
       "      <th>villages_less_499</th>\n",
       "      <th>villages_500_to_1999</th>\n",
       "      <th>villages_2000_to_9999</th>\n",
       "      <th>villages_with_more_10000</th>\n",
       "      <th>number_of_cities</th>\n",
       "      <th>ratio_urban_inhabitants</th>\n",
       "      <th>average_salary</th>\n",
       "      <th>unemployment_rate_95</th>\n",
       "      <th>unemployment_rate_96</th>\n",
       "      <th>entrepreneurs_per_1000_inhabitants</th>\n",
       "      <th>committed_crimes_95</th>\n",
       "      <th>committed_crimes_96</th>\n",
       "    </tr>\n",
       "  </thead>\n",
       "  <tbody>\n",
       "    <tr>\n",
       "      <th>0</th>\n",
       "      <td>1</td>\n",
       "      <td>Hl.m. Praha</td>\n",
       "      <td>Prague</td>\n",
       "      <td>1204953</td>\n",
       "      <td>0</td>\n",
       "      <td>0</td>\n",
       "      <td>0</td>\n",
       "      <td>1</td>\n",
       "      <td>1</td>\n",
       "      <td>100.0</td>\n",
       "      <td>12541</td>\n",
       "      <td>0.29</td>\n",
       "      <td>0.43</td>\n",
       "      <td>167</td>\n",
       "      <td>85677</td>\n",
       "      <td>99107</td>\n",
       "    </tr>\n",
       "    <tr>\n",
       "      <th>1</th>\n",
       "      <td>2</td>\n",
       "      <td>Benesov</td>\n",
       "      <td>central Bohemia</td>\n",
       "      <td>88884</td>\n",
       "      <td>80</td>\n",
       "      <td>26</td>\n",
       "      <td>6</td>\n",
       "      <td>2</td>\n",
       "      <td>5</td>\n",
       "      <td>46.7</td>\n",
       "      <td>8507</td>\n",
       "      <td>1.67</td>\n",
       "      <td>1.85</td>\n",
       "      <td>132</td>\n",
       "      <td>2159</td>\n",
       "      <td>2674</td>\n",
       "    </tr>\n",
       "    <tr>\n",
       "      <th>2</th>\n",
       "      <td>3</td>\n",
       "      <td>Beroun</td>\n",
       "      <td>central Bohemia</td>\n",
       "      <td>75232</td>\n",
       "      <td>55</td>\n",
       "      <td>26</td>\n",
       "      <td>4</td>\n",
       "      <td>1</td>\n",
       "      <td>5</td>\n",
       "      <td>41.7</td>\n",
       "      <td>8980</td>\n",
       "      <td>1.95</td>\n",
       "      <td>2.21</td>\n",
       "      <td>111</td>\n",
       "      <td>2824</td>\n",
       "      <td>2813</td>\n",
       "    </tr>\n",
       "    <tr>\n",
       "      <th>3</th>\n",
       "      <td>4</td>\n",
       "      <td>Kladno</td>\n",
       "      <td>central Bohemia</td>\n",
       "      <td>149893</td>\n",
       "      <td>63</td>\n",
       "      <td>29</td>\n",
       "      <td>6</td>\n",
       "      <td>2</td>\n",
       "      <td>6</td>\n",
       "      <td>67.4</td>\n",
       "      <td>9753</td>\n",
       "      <td>4.64</td>\n",
       "      <td>5.05</td>\n",
       "      <td>109</td>\n",
       "      <td>5244</td>\n",
       "      <td>5892</td>\n",
       "    </tr>\n",
       "    <tr>\n",
       "      <th>4</th>\n",
       "      <td>5</td>\n",
       "      <td>Kolin</td>\n",
       "      <td>central Bohemia</td>\n",
       "      <td>95616</td>\n",
       "      <td>65</td>\n",
       "      <td>30</td>\n",
       "      <td>4</td>\n",
       "      <td>1</td>\n",
       "      <td>6</td>\n",
       "      <td>51.4</td>\n",
       "      <td>9307</td>\n",
       "      <td>3.85</td>\n",
       "      <td>4.43</td>\n",
       "      <td>118</td>\n",
       "      <td>2616</td>\n",
       "      <td>3040</td>\n",
       "    </tr>\n",
       "    <tr>\n",
       "      <th>...</th>\n",
       "      <td>...</td>\n",
       "      <td>...</td>\n",
       "      <td>...</td>\n",
       "      <td>...</td>\n",
       "      <td>...</td>\n",
       "      <td>...</td>\n",
       "      <td>...</td>\n",
       "      <td>...</td>\n",
       "      <td>...</td>\n",
       "      <td>...</td>\n",
       "      <td>...</td>\n",
       "      <td>...</td>\n",
       "      <td>...</td>\n",
       "      <td>...</td>\n",
       "      <td>...</td>\n",
       "      <td>...</td>\n",
       "    </tr>\n",
       "    <tr>\n",
       "      <th>72</th>\n",
       "      <td>73</td>\n",
       "      <td>Opava</td>\n",
       "      <td>north Moravia</td>\n",
       "      <td>182027</td>\n",
       "      <td>17</td>\n",
       "      <td>49</td>\n",
       "      <td>12</td>\n",
       "      <td>2</td>\n",
       "      <td>7</td>\n",
       "      <td>56.4</td>\n",
       "      <td>8746</td>\n",
       "      <td>3.33</td>\n",
       "      <td>3.74</td>\n",
       "      <td>90</td>\n",
       "      <td>4355</td>\n",
       "      <td>4433</td>\n",
       "    </tr>\n",
       "    <tr>\n",
       "      <th>73</th>\n",
       "      <td>74</td>\n",
       "      <td>Ostrava - mesto</td>\n",
       "      <td>north Moravia</td>\n",
       "      <td>323870</td>\n",
       "      <td>0</td>\n",
       "      <td>0</td>\n",
       "      <td>0</td>\n",
       "      <td>1</td>\n",
       "      <td>1</td>\n",
       "      <td>100.0</td>\n",
       "      <td>10673</td>\n",
       "      <td>4.75</td>\n",
       "      <td>5.44</td>\n",
       "      <td>100</td>\n",
       "      <td>18782</td>\n",
       "      <td>18347</td>\n",
       "    </tr>\n",
       "    <tr>\n",
       "      <th>74</th>\n",
       "      <td>75</td>\n",
       "      <td>Prerov</td>\n",
       "      <td>north Moravia</td>\n",
       "      <td>138032</td>\n",
       "      <td>67</td>\n",
       "      <td>30</td>\n",
       "      <td>4</td>\n",
       "      <td>2</td>\n",
       "      <td>5</td>\n",
       "      <td>64.6</td>\n",
       "      <td>8819</td>\n",
       "      <td>5.38</td>\n",
       "      <td>5.66</td>\n",
       "      <td>99</td>\n",
       "      <td>4063</td>\n",
       "      <td>4505</td>\n",
       "    </tr>\n",
       "    <tr>\n",
       "      <th>75</th>\n",
       "      <td>76</td>\n",
       "      <td>Sumperk</td>\n",
       "      <td>north Moravia</td>\n",
       "      <td>127369</td>\n",
       "      <td>31</td>\n",
       "      <td>32</td>\n",
       "      <td>13</td>\n",
       "      <td>2</td>\n",
       "      <td>7</td>\n",
       "      <td>51.2</td>\n",
       "      <td>8369</td>\n",
       "      <td>4.73</td>\n",
       "      <td>5.88</td>\n",
       "      <td>107</td>\n",
       "      <td>3736</td>\n",
       "      <td>2807</td>\n",
       "    </tr>\n",
       "    <tr>\n",
       "      <th>76</th>\n",
       "      <td>77</td>\n",
       "      <td>Vsetin</td>\n",
       "      <td>north Moravia</td>\n",
       "      <td>148545</td>\n",
       "      <td>8</td>\n",
       "      <td>35</td>\n",
       "      <td>12</td>\n",
       "      <td>3</td>\n",
       "      <td>4</td>\n",
       "      <td>53.5</td>\n",
       "      <td>8909</td>\n",
       "      <td>4.01</td>\n",
       "      <td>5.56</td>\n",
       "      <td>113</td>\n",
       "      <td>3460</td>\n",
       "      <td>3590</td>\n",
       "    </tr>\n",
       "  </tbody>\n",
       "</table>\n",
       "<p>77 rows × 16 columns</p>\n",
       "</div>"
      ],
      "text/plain": [
       "    district_id    district_name           region  inhabitants  \\\n",
       "0             1      Hl.m. Praha           Prague      1204953   \n",
       "1             2          Benesov  central Bohemia        88884   \n",
       "2             3           Beroun  central Bohemia        75232   \n",
       "3             4           Kladno  central Bohemia       149893   \n",
       "4             5            Kolin  central Bohemia        95616   \n",
       "..          ...              ...              ...          ...   \n",
       "72           73            Opava    north Moravia       182027   \n",
       "73           74  Ostrava - mesto    north Moravia       323870   \n",
       "74           75           Prerov    north Moravia       138032   \n",
       "75           76          Sumperk    north Moravia       127369   \n",
       "76           77           Vsetin    north Moravia       148545   \n",
       "\n",
       "    villages_less_499  villages_500_to_1999  villages_2000_to_9999  \\\n",
       "0                   0                     0                      0   \n",
       "1                  80                    26                      6   \n",
       "2                  55                    26                      4   \n",
       "3                  63                    29                      6   \n",
       "4                  65                    30                      4   \n",
       "..                ...                   ...                    ...   \n",
       "72                 17                    49                     12   \n",
       "73                  0                     0                      0   \n",
       "74                 67                    30                      4   \n",
       "75                 31                    32                     13   \n",
       "76                  8                    35                     12   \n",
       "\n",
       "    villages_with_more_10000  number_of_cities  ratio_urban_inhabitants  \\\n",
       "0                          1                 1                    100.0   \n",
       "1                          2                 5                     46.7   \n",
       "2                          1                 5                     41.7   \n",
       "3                          2                 6                     67.4   \n",
       "4                          1                 6                     51.4   \n",
       "..                       ...               ...                      ...   \n",
       "72                         2                 7                     56.4   \n",
       "73                         1                 1                    100.0   \n",
       "74                         2                 5                     64.6   \n",
       "75                         2                 7                     51.2   \n",
       "76                         3                 4                     53.5   \n",
       "\n",
       "    average_salary unemployment_rate_95  unemployment_rate_96  \\\n",
       "0            12541                 0.29                  0.43   \n",
       "1             8507                 1.67                  1.85   \n",
       "2             8980                 1.95                  2.21   \n",
       "3             9753                 4.64                  5.05   \n",
       "4             9307                 3.85                  4.43   \n",
       "..             ...                  ...                   ...   \n",
       "72            8746                 3.33                  3.74   \n",
       "73           10673                 4.75                  5.44   \n",
       "74            8819                 5.38                  5.66   \n",
       "75            8369                 4.73                  5.88   \n",
       "76            8909                 4.01                  5.56   \n",
       "\n",
       "    entrepreneurs_per_1000_inhabitants committed_crimes_95  \\\n",
       "0                                  167               85677   \n",
       "1                                  132                2159   \n",
       "2                                  111                2824   \n",
       "3                                  109                5244   \n",
       "4                                  118                2616   \n",
       "..                                 ...                 ...   \n",
       "72                                  90                4355   \n",
       "73                                 100               18782   \n",
       "74                                  99                4063   \n",
       "75                                 107                3736   \n",
       "76                                 113                3460   \n",
       "\n",
       "    committed_crimes_96  \n",
       "0                 99107  \n",
       "1                  2674  \n",
       "2                  2813  \n",
       "3                  5892  \n",
       "4                  3040  \n",
       "..                  ...  \n",
       "72                 4433  \n",
       "73                18347  \n",
       "74                 4505  \n",
       "75                 2807  \n",
       "76                 3590  \n",
       "\n",
       "[77 rows x 16 columns]"
      ]
     },
     "execution_count": 50,
     "metadata": {},
     "output_type": "execute_result"
    }
   ],
   "source": [
    "# Renaming the columns\n",
    "new_column_names = ['district_id', 'district_name', 'region', 'inhabitants', 'villages_less_499', 'villages_500_to_1999', 'villages_2000_to_9999', 'villages_with_more_10000', 'number_of_cities', 'ratio_urban_inhabitants', \n",
    "                    'average_salary','unemployment_rate_95', 'unemployment_rate_96', 'entrepreneurs_per_1000_inhabitants', 'committed_crimes_95', 'committed_crimes_96']\n",
    "\n",
    "# Annahme: df ist dein DataFrame\n",
    "district.columns = new_column_names\n",
    "district"
   ]
  },
  {
   "cell_type": "markdown",
   "metadata": {},
   "source": [
    "#### Summary EDA District\n",
    "This dataframe contains information about the districts. Czechia only has four regions similar to the four regions of Switzerland (Romandie, Deutschschweiz, etc.). "
   ]
  },
  {
   "cell_type": "markdown",
   "metadata": {},
   "source": [
    "### Loan"
   ]
  },
  {
   "cell_type": "code",
   "execution_count": 51,
   "metadata": {},
   "outputs": [
    {
     "data": {
      "text/plain": [
       "<bound method NDFrame.head of      loan_id  account_id    date  amount  duration  payments status\n",
       "0       5314        1787  930705   96396        12    8033.0      B\n",
       "1       5316        1801  930711  165960        36    4610.0      A\n",
       "2       6863        9188  930728  127080        60    2118.0      A\n",
       "3       5325        1843  930803  105804        36    2939.0      A\n",
       "4       7240       11013  930906  274740        60    4579.0      A\n",
       "..       ...         ...     ...     ...       ...       ...    ...\n",
       "677     4989         105  981205  352704        48    7348.0      C\n",
       "678     5221        1284  981205   52512        12    4376.0      C\n",
       "679     6402        6922  981206  139488        24    5812.0      C\n",
       "680     5346        1928  981206   55632        24    2318.0      C\n",
       "681     6748        8645  981208  240900        60    4015.0      C\n",
       "\n",
       "[682 rows x 7 columns]>"
      ]
     },
     "execution_count": 51,
     "metadata": {},
     "output_type": "execute_result"
    }
   ],
   "source": [
    "loan.head"
   ]
  },
  {
   "cell_type": "markdown",
   "metadata": {},
   "source": [
    "#### Summary EDA Loan\n",
    "Every loan has an unique ID which is connected so the account_id. The loans are also categorised into \"contract finished, no problems\""
   ]
  },
  {
   "cell_type": "markdown",
   "metadata": {},
   "source": [
    "### Order"
   ]
  },
  {
   "cell_type": "markdown",
   "metadata": {},
   "source": [
    "### Trans"
   ]
  },
  {
   "cell_type": "markdown",
   "metadata": {},
   "source": [
    "## 2. Combining information on customers and banking services\n",
    "We combine the data from the six CSVs with eachother to see how they are being used. In the dataset disp.csv we have disp_id and client_id and account_id so we can combine the client to an account and also see if he's an owner or disponent.  "
   ]
  },
  {
   "cell_type": "markdown",
   "metadata": {},
   "source": [
    "## 3. Data Cleaning\n",
    "Here we \"clean\" the data which means we decide, what data we will use for the models. "
   ]
  }
 ],
 "metadata": {
  "kernelspec": {
   "display_name": "Python 3",
   "language": "python",
   "name": "python3"
  },
  "language_info": {
   "codemirror_mode": {
    "name": "ipython",
    "version": 3
   },
   "file_extension": ".py",
   "mimetype": "text/x-python",
   "name": "python",
   "nbconvert_exporter": "python",
   "pygments_lexer": "ipython3",
   "version": "3.9.7"
  }
 },
 "nbformat": 4,
 "nbformat_minor": 2
}
