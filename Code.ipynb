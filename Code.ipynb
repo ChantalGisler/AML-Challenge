{
 "cells": [
  {
   "cell_type": "markdown",
   "metadata": {},
   "source": [
    "# AML Challenge"
   ]
  },
  {
   "cell_type": "markdown",
   "metadata": {},
   "source": [
    "## Setup"
   ]
  },
  {
   "cell_type": "code",
   "execution_count": 48,
   "metadata": {},
   "outputs": [],
   "source": [
    "# Loading libraries\n",
    "import numpy as np\n",
    "import sympy as sp\n",
    "import matplotlib.pyplot as plt\n",
    "import pandas as pd\n",
    "from sklearn.model_selection import train_test_split\n",
    "from collections import Counter\n",
    "from datetime import datetime"
   ]
  },
  {
   "cell_type": "code",
   "execution_count": 39,
   "metadata": {},
   "outputs": [
    {
     "name": "stderr",
     "output_type": "stream",
     "text": [
      "C:\\Users\\chant\\AppData\\Local\\Temp/ipykernel_16032/1677394057.py:9: DtypeWarning: Columns (8) have mixed types. Specify dtype option on import or set low_memory=False.\n",
      "  trans = pd.read_csv('Data/trans.csv', sep = ';')\n"
     ]
    }
   ],
   "source": [
    "# Loading data\n",
    "account = pd.read_csv('Data/account.csv', sep = ';')\n",
    "card = pd.read_csv('Data/card.csv', sep = ';')\n",
    "client = pd.read_csv('Data/client.csv', sep = ';')\n",
    "disp = pd.read_csv('Data/disp.csv', sep = ';')\n",
    "district = pd.read_csv('Data/district.csv', sep = ';')\n",
    "loan = pd.read_csv('Data/loan.csv', sep = ';')\n",
    "order = pd.read_csv('Data/order.csv', sep = ';')\n",
    "trans = pd.read_csv('Data/trans.csv', sep = ';')"
   ]
  },
  {
   "cell_type": "markdown",
   "metadata": {},
   "source": [
    "## Explorative Data Analysis"
   ]
  },
  {
   "cell_type": "markdown",
   "metadata": {},
   "source": [
    "### Account\n",
    "Data wrangling with the csv account. Here's a brief description from the website: "
   ]
  },
  {
   "cell_type": "code",
   "execution_count": 40,
   "metadata": {},
   "outputs": [
    {
     "name": "stdout",
     "output_type": "stream",
     "text": [
      "   account_id  district_id         frequency    date\n",
      "0         576           55  POPLATEK MESICNE  930101\n",
      "1        3818           74  POPLATEK MESICNE  930101\n",
      "2         704           55  POPLATEK MESICNE  930101\n",
      "3        2378           16  POPLATEK MESICNE  930101\n",
      "4        2632           24  POPLATEK MESICNE  930102\n"
     ]
    }
   ],
   "source": [
    "print(account.head())"
   ]
  },
  {
   "cell_type": "markdown",
   "metadata": {},
   "source": [
    "It seems that the date column is wrong, let's fix that. "
   ]
  },
  {
   "cell_type": "code",
   "execution_count": 41,
   "metadata": {},
   "outputs": [
    {
     "name": "stdout",
     "output_type": "stream",
     "text": [
      "   account_id  district_id         frequency       date\n",
      "0         576           55  POPLATEK MESICNE 1993-01-01\n",
      "1        3818           74  POPLATEK MESICNE 1993-01-01\n",
      "2         704           55  POPLATEK MESICNE 1993-01-01\n",
      "3        2378           16  POPLATEK MESICNE 1993-01-01\n",
      "4        2632           24  POPLATEK MESICNE 1993-01-02\n"
     ]
    }
   ],
   "source": [
    "# Fixing the date column\n",
    "account['date'] = pd.to_datetime(account['date'], format='%y%m%d')\n",
    "print(account.head())"
   ]
  },
  {
   "cell_type": "markdown",
   "metadata": {},
   "source": [
    "# Hier weiter"
   ]
  },
  {
   "cell_type": "code",
   "execution_count": 42,
   "metadata": {},
   "outputs": [],
   "source": [
    "# Translating the frequency into English\n"
   ]
  },
  {
   "cell_type": "code",
   "execution_count": 43,
   "metadata": {},
   "outputs": [
    {
     "name": "stdout",
     "output_type": "stream",
     "text": [
      "<class 'pandas.core.frame.DataFrame'>\n",
      "RangeIndex: 4500 entries, 0 to 4499\n",
      "Data columns (total 4 columns):\n",
      " #   Column       Non-Null Count  Dtype         \n",
      "---  ------       --------------  -----         \n",
      " 0   account_id   4500 non-null   int64         \n",
      " 1   district_id  4500 non-null   int64         \n",
      " 2   frequency    4500 non-null   object        \n",
      " 3   date         4500 non-null   datetime64[ns]\n",
      "dtypes: datetime64[ns](1), int64(2), object(1)\n",
      "memory usage: 140.8+ KB\n",
      "None\n"
     ]
    }
   ],
   "source": [
    "print(account.info())"
   ]
  },
  {
   "cell_type": "code",
   "execution_count": 44,
   "metadata": {},
   "outputs": [
    {
     "name": "stdout",
     "output_type": "stream",
     "text": [
      "account_id     0\n",
      "district_id    0\n",
      "frequency      0\n",
      "date           0\n",
      "dtype: int64\n"
     ]
    }
   ],
   "source": [
    "# Checking if there are any data missing\n",
    "print(account.isnull().sum())"
   ]
  },
  {
   "cell_type": "code",
   "execution_count": 45,
   "metadata": {},
   "outputs": [
    {
     "name": "stdout",
     "output_type": "stream",
     "text": [
      "4500\n",
      "77\n"
     ]
    }
   ],
   "source": [
    "print(account['account_id'].nunique())\n",
    "print(account['district_id'].nunique())"
   ]
  },
  {
   "cell_type": "markdown",
   "metadata": {},
   "source": [
    "#### Summary EDA Account"
   ]
  },
  {
   "cell_type": "markdown",
   "metadata": {},
   "source": [
    "There are 4500 unique clients in 77 districs. "
   ]
  },
  {
   "cell_type": "markdown",
   "metadata": {},
   "source": [
    "### Client"
   ]
  },
  {
   "cell_type": "code",
   "execution_count": 46,
   "metadata": {},
   "outputs": [
    {
     "name": "stdout",
     "output_type": "stream",
     "text": [
      "<bound method NDFrame.head of       client_id  birth_number  district_id\n",
      "0             1        706213           18\n",
      "1             2        450204            1\n",
      "2             3        406009            1\n",
      "3             4        561201            5\n",
      "4             5        605703            5\n",
      "...         ...           ...          ...\n",
      "5364      13955        456030            1\n",
      "5365      13956        430406            1\n",
      "5366      13968        680413           61\n",
      "5367      13971        626019           67\n",
      "5368      13998        535812           74\n",
      "\n",
      "[5369 rows x 3 columns]>\n"
     ]
    }
   ],
   "source": [
    "print(client.head)"
   ]
  },
  {
   "cell_type": "code",
   "execution_count": 47,
   "metadata": {},
   "outputs": [
    {
     "data": {
      "text/plain": [
       "<bound method NDFrame.head of       client_id  district_id  gender  birth_day  age\n",
       "0             1           18  female 1970-12-13   29\n",
       "1             2            1    male 1945-02-04   54\n",
       "2             3            1  female 1940-10-09   59\n",
       "3             4            5    male 1956-12-01   43\n",
       "4             5            5  female 1960-07-03   39\n",
       "...         ...          ...     ...        ...  ...\n",
       "5364      13955            1  female 1945-10-30   54\n",
       "5365      13956            1    male 1943-04-06   56\n",
       "5366      13968           61    male 1968-04-13   31\n",
       "5367      13971           67  female 1962-10-19   37\n",
       "5368      13998           74  female 1953-08-12   46\n",
       "\n",
       "[5369 rows x 5 columns]>"
      ]
     },
     "execution_count": 47,
     "metadata": {},
     "output_type": "execute_result"
    }
   ],
   "source": [
    "# Function to calculate the birthday, gender and age from birth_number\n",
    "def calculate_birthday(df):\n",
    "    \n",
    "    genders = []\n",
    "    birthdays = []\n",
    "    ages = []\n",
    "    \n",
    "    base_date = datetime(1999, 12, 31)\n",
    "    \n",
    "    for birth_number in df['birth_number']:\n",
    "        birth_number_str = str(birth_number)\n",
    "        \n",
    "        year = int(\"19\" + birth_number_str[:2])\n",
    "        month = int(birth_number_str[2:4])\n",
    "        day = int(birth_number_str[4:6])\n",
    "        \n",
    "        if month > 12:\n",
    "            gender = \"female\"\n",
    "            month -= 50  # minus 50 for females\n",
    "        else:\n",
    "            gender = \"male\"\n",
    "        \n",
    "        birth_day = datetime(year, month, day)\n",
    "        age = base_date.year - birth_day.year - ((base_date.month, base_date.day) < (birth_day.month, birth_day.day))\n",
    "        \n",
    "        genders.append(gender)\n",
    "        birthdays.append(birth_day)\n",
    "        ages.append(age)\n",
    "    \n",
    "    df['gender'] = genders\n",
    "    df['birth_day'] = birthdays\n",
    "    df['age'] = ages\n",
    "    \n",
    "    df = df.drop(columns=['birth_number'])\n",
    "    \n",
    "    return df\n",
    "\n",
    "client = calculate_birthday(client)\n",
    "#client.head"
   ]
  },
  {
   "cell_type": "code",
   "execution_count": 50,
   "metadata": {},
   "outputs": [
    {
     "data": {
      "image/png": "[encoded data removed]",
      "text/plain": [
       "<Figure size 1152x432 with 1 Axes>"
      ]
     },
     "metadata": {
      "needs_background": "light"
     },
     "output_type": "display_data"
    }
   ],
   "source": [
    "client['birth_year'] = pd.to_datetime(client['birth_day']).dt.year\n",
    "client_count_per_year = client.groupby('birth_year')['client_id'].nunique()\n",
    "\n",
    "# Plot\n",
    "plt.figure(figsize=(16, 6))\n",
    "client_count_per_year.plot(kind='bar', color='forestgreen')\n",
    "plt.title('How many Clients are born in what Year')\n",
    "plt.xlabel('Year of Birth')\n",
    "plt.ylabel('Amount of Unique Clients')\n",
    "plt.xticks(rotation=45)\n",
    "plt.tight_layout()\n",
    "plt.show()"
   ]
  }
 ],
 "metadata": {
  "kernelspec": {
   "display_name": "Python 3",
   "language": "python",
   "name": "python3"
  },
  "language_info": {
   "codemirror_mode": {
    "name": "ipython",
    "version": 3
   },
   "file_extension": ".py",
   "mimetype": "text/x-python",
   "name": "python",
   "nbconvert_exporter": "python",
   "pygments_lexer": "ipython3",
   "version": "3.9.7"
  }
 },
 "nbformat": 4,
 "nbformat_minor": 2
}
