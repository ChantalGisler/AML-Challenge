{
 "cells": [
  {
   "cell_type": "markdown",
   "metadata": {},
   "source": [
    "# AML Challenge"
   ]
  },
  {
   "cell_type": "markdown",
   "metadata": {},
   "source": [
    "## Setup"
   ]
  },
  {
   "cell_type": "code",
   "execution_count": 1,
   "metadata": {},
   "outputs": [],
   "source": [
    "# Loading libraries\n",
    "import numpy as np\n",
    "import sympy as sp\n",
    "import matplotlib.pyplot as plt\n",
    "import pandas as pd\n",
    "from sklearn.model_selection import train_test_split\n",
    "from collections import Counter"
   ]
  },
  {
   "cell_type": "code",
   "execution_count": 4,
   "metadata": {},
   "outputs": [
    {
     "name": "stderr",
     "output_type": "stream",
     "text": [
      "C:\\Users\\chant\\AppData\\Local\\Temp/ipykernel_10736/1677394057.py:9: DtypeWarning: Columns (8) have mixed types. Specify dtype option on import or set low_memory=False.\n",
      "  trans = pd.read_csv('Data/trans.csv', sep = ';')\n"
     ]
    }
   ],
   "source": [
    "# Loading data\n",
    "account = pd.read_csv('Data/account.csv', sep = ';')\n",
    "card = pd.read_csv('Data/card.csv', sep = ';')\n",
    "client = pd.read_csv('Data/client.csv', sep = ';')\n",
    "disp = pd.read_csv('Data/disp.csv', sep = ';')\n",
    "district = pd.read_csv('Data/district.csv', sep = ';')\n",
    "loan = pd.read_csv('Data/loan.csv', sep = ';')\n",
    "order = pd.read_csv('Data/order.csv', sep = ';')\n",
    "trans = pd.read_csv('Data/trans.csv', sep = ';')"
   ]
  },
  {
   "cell_type": "markdown",
   "metadata": {},
   "source": [
    "## Explorative Data Analysis"
   ]
  },
  {
   "cell_type": "markdown",
   "metadata": {},
   "source": [
    "### Account\n",
    "Data wrangling with the csv account. Here's a brief description from the website: "
   ]
  },
  {
   "cell_type": "code",
   "execution_count": 6,
   "metadata": {},
   "outputs": [
    {
     "name": "stdout",
     "output_type": "stream",
     "text": [
      "   account_id  district_id         frequency    date\n",
      "0         576           55  POPLATEK MESICNE  930101\n",
      "1        3818           74  POPLATEK MESICNE  930101\n",
      "2         704           55  POPLATEK MESICNE  930101\n",
      "3        2378           16  POPLATEK MESICNE  930101\n",
      "4        2632           24  POPLATEK MESICNE  930102\n"
     ]
    }
   ],
   "source": [
    "print(account.head())"
   ]
  },
  {
   "cell_type": "markdown",
   "metadata": {},
   "source": [
    "It seems that the date column is wrong, let's fix that. "
   ]
  },
  {
   "cell_type": "code",
   "execution_count": 7,
   "metadata": {},
   "outputs": [
    {
     "name": "stdout",
     "output_type": "stream",
     "text": [
      "   account_id  district_id         frequency       date\n",
      "0         576           55  POPLATEK MESICNE 1993-01-01\n",
      "1        3818           74  POPLATEK MESICNE 1993-01-01\n",
      "2         704           55  POPLATEK MESICNE 1993-01-01\n",
      "3        2378           16  POPLATEK MESICNE 1993-01-01\n",
      "4        2632           24  POPLATEK MESICNE 1993-01-02\n"
     ]
    }
   ],
   "source": [
    "# Fixing the date column\n",
    "account['date'] = pd.to_datetime(account['date'], format='%y%m%d')\n",
    "print(account.head())"
   ]
  },
  {
   "cell_type": "markdown",
   "metadata": {},
   "source": [
    "# Hier weiter"
   ]
  },
  {
   "cell_type": "code",
   "execution_count": null,
   "metadata": {},
   "outputs": [],
   "source": [
    "# Translating the frequency into English\n"
   ]
  },
  {
   "cell_type": "code",
   "execution_count": 11,
   "metadata": {},
   "outputs": [
    {
     "name": "stdout",
     "output_type": "stream",
     "text": [
      "<class 'pandas.core.frame.DataFrame'>\n",
      "RangeIndex: 4500 entries, 0 to 4499\n",
      "Data columns (total 4 columns):\n",
      " #   Column       Non-Null Count  Dtype         \n",
      "---  ------       --------------  -----         \n",
      " 0   account_id   4500 non-null   int64         \n",
      " 1   district_id  4500 non-null   int64         \n",
      " 2   frequency    4500 non-null   object        \n",
      " 3   date         4500 non-null   datetime64[ns]\n",
      "dtypes: datetime64[ns](1), int64(2), object(1)\n",
      "memory usage: 140.8+ KB\n",
      "None\n"
     ]
    }
   ],
   "source": [
    "print(account.info())"
   ]
  },
  {
   "cell_type": "code",
   "execution_count": 13,
   "metadata": {},
   "outputs": [
    {
     "name": "stdout",
     "output_type": "stream",
     "text": [
      "account_id     0\n",
      "district_id    0\n",
      "frequency      0\n",
      "date           0\n",
      "dtype: int64\n"
     ]
    }
   ],
   "source": [
    "# Checking if there are any data missing\n",
    "print(account.isnull().sum())"
   ]
  },
  {
   "cell_type": "code",
   "execution_count": 15,
   "metadata": {},
   "outputs": [
    {
     "name": "stdout",
     "output_type": "stream",
     "text": [
      "4500\n",
      "77\n"
     ]
    }
   ],
   "source": [
    "print(account['account_id'].nunique())\n",
    "print(account['district_id'].nunique())"
   ]
  },
  {
   "cell_type": "markdown",
   "metadata": {},
   "source": [
    "#### Summary EDA Account"
   ]
  },
  {
   "cell_type": "markdown",
   "metadata": {},
   "source": [
    "There are 4500 unique clients in 77 districs. "
   ]
  },
  {
   "cell_type": "markdown",
   "metadata": {},
   "source": [
    "### Client"
   ]
  },
  {
   "cell_type": "code",
   "execution_count": 18,
   "metadata": {},
   "outputs": [
    {
     "name": "stdout",
     "output_type": "stream",
     "text": [
      "<bound method NDFrame.head of       client_id  birth_number  district_id\n",
      "0             1        706213           18\n",
      "1             2        450204            1\n",
      "2             3        406009            1\n",
      "3             4        561201            5\n",
      "4             5        605703            5\n",
      "...         ...           ...          ...\n",
      "5364      13955        456030            1\n",
      "5365      13956        430406            1\n",
      "5366      13968        680413           61\n",
      "5367      13971        626019           67\n",
      "5368      13998        535812           74\n",
      "\n",
      "[5369 rows x 3 columns]>\n"
     ]
    }
   ],
   "source": [
    "print(client.head)"
   ]
  },
  {
   "cell_type": "code",
   "execution_count": 22,
   "metadata": {},
   "outputs": [
    {
     "name": "stdout",
     "output_type": "stream",
     "text": [
      "   client_id  birth_number  district_id date_of_birth  gender\n",
      "0          1        706213           18    1970-12-13  female\n",
      "1          2        450204            1    2045-02-04    male\n",
      "2          3        406009            1    2040-10-09  female\n",
      "3          4        561201            5    1956-12-01    male\n",
      "4          5        605703            5    1960-07-03  female\n"
     ]
    }
   ],
   "source": [
    "# Changing the birth number into date of birth and gender. Code with ChatGPT: https://chatgpt.com/share/66f07472-2dbc-8002-9151-914f5c3aa6d6\n",
    "\n",
    "# Funktion zur Umwandlung der Geburtsnummer in Geburtsdatum und Geschlecht\n",
    "def extract_birthdate_and_gender(number):\n",
    "    # Konvertiere die Zahl in einen String mit führenden Nullen\n",
    "    number_str = str(number).zfill(6)\n",
    "    \n",
    "    # Extrahiere die Teile des Datums\n",
    "    year = int(number_str[:2])  # Die ersten zwei Ziffern sind das Jahr\n",
    "    month = int(number_str[2:4])  # Die nächsten zwei Ziffern sind der Monat\n",
    "    day = int(number_str[4:6])  # Die letzten zwei Ziffern sind der Tag\n",
    "\n",
    "    # Bestimme das Geschlecht und passe den Monat für Frauen an\n",
    "    if month > 50:\n",
    "        gender = 'female'\n",
    "        month -= 50  # Subtrahiere 50 vom Monat für Frauen\n",
    "    else:\n",
    "        gender = 'male'\n",
    "\n",
    "    # Bestimme das Jahr. Falls YY > 20, ordnen wir es dem 20. Jahrhundert zu, sonst dem 21.\n",
    "    if year >= 50:  # Jahr größer gleich 50 -> 1900er (50-99)\n",
    "        year += 1900\n",
    "    else:  # Jahr kleiner 50 -> 2000er (00-49)\n",
    "        year += 2000\n",
    "\n",
    "    # Erstelle das Datum\n",
    "    date_of_birth = pd.Timestamp(year=year, month=month, day=day)\n",
    "\n",
    "    return date_of_birth, gender\n",
    "\n",
    "# Wende die Funktion auf die Spalte 'birthnumber' an\n",
    "client['date_of_birth'], client['gender'] = zip(*client['birth_number'].apply(extract_birthdate_and_gender))\n",
    "\n",
    "# Zeige das Ergebnis an\n",
    "print(client.head())"
   ]
  },
  {
   "cell_type": "code",
   "execution_count": 25,
   "metadata": {},
   "outputs": [
    {
     "data": {
      "image/png": "[encoded data removed]",
      "text/plain": [
       "<Figure size 1152x432 with 1 Axes>"
      ]
     },
     "metadata": {
      "needs_background": "light"
     },
     "output_type": "display_data"
    }
   ],
   "source": [
    "client['birth_year'] = pd.to_datetime(client['date_of_birth']).dt.year\n",
    "client_count_per_year = client.groupby('birth_year')['client_id'].nunique()\n",
    "\n",
    "# Plot\n",
    "plt.figure(figsize=(16, 6))\n",
    "client_count_per_year.plot(kind='bar', color='forestgreen')\n",
    "plt.title('How many Clients are born in what Year')\n",
    "plt.xlabel('Year of Birth')\n",
    "plt.ylabel('Amount of Unique Clients')\n",
    "plt.xticks(rotation=45)\n",
    "plt.tight_layout()\n",
    "plt.show()"
   ]
  },
  {
   "cell_type": "markdown",
   "metadata": {},
   "source": [
    "Explanation of the plot: There seems to be an error in the code or in the data as some clients are not even born yet but they still have an account. "
   ]
  },
  {
   "cell_type": "markdown",
   "metadata": {},
   "source": [
    "# Error"
   ]
  }
 ],
 "metadata": {
  "kernelspec": {
   "display_name": "Python 3",
   "language": "python",
   "name": "python3"
  },
  "language_info": {
   "codemirror_mode": {
    "name": "ipython",
    "version": 3
   },
   "file_extension": ".py",
   "mimetype": "text/x-python",
   "name": "python",
   "nbconvert_exporter": "python",
   "pygments_lexer": "ipython3",
   "version": "3.9.7"
  }
 },
 "nbformat": 4,
 "nbformat_minor": 2
}
